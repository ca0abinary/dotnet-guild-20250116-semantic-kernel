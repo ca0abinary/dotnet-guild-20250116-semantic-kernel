{
 "cells": [
  {
   "cell_type": "markdown",
   "metadata": {
    "dotnet_interactive": {
     "language": "csharp"
    },
    "polyglot_notebook": {
     "kernelName": "csharp"
    }
   },
   "source": [
    "# 📢 Function Calling (❌ Currently broken for notebooks; use C# project instead)\n",
    "\n",
    "The most powerful feature of chat completion is the ability to call functions from the model. This allows you to create a chat bot that can interact with your existing code, making it possible to automate business processes, create code snippets, and more.\n",
    "\n",
    "The process seems complex, but much of the work is handled by the Semantic Kernel framework and the LLM. Here's what it looks like:\n",
    "![](https://learn.microsoft.com/en-us/semantic-kernel/media/functioncalling.png)\n",
    "\n",
    "Let's start in the usual way by setting up our environment and then we'll dig into how to make function calling work.\n",
    "\n",
    "## 🛠️ Setup"
   ]
  },
  {
   "cell_type": "code",
   "execution_count": null,
   "metadata": {
    "dotnet_interactive": {
     "language": "csharp"
    },
    "polyglot_notebook": {
     "kernelName": "csharp"
    }
   },
   "outputs": [],
   "source": [
    "// Install the required packages\n",
    "#r \"nuget: Microsoft.Extensions.AI.Ollama, 9.1.0-preview.1.25064.3\"\n",
    "#r \"nuget: Microsoft.SemanticKernel\"\n",
    "#r \"nuget: Microsoft.SemanticKernel.Connectors.Ollama, 1.33.0-alpha\"\n",
    "#r \"nuget: OllamaSharp\"\n",
    "\n",
    "// Setup the URL\n",
    "using System.Net.Sockets;\n",
    "\n",
    "var ollamaApiUrl = \"http://localhost:11434\";\n",
    "try {\n",
    "  var tcp = new TcpClient();\n",
    "  tcp.SendTimeout = 100;\n",
    "  tcp.Connect(\"host.docker.internal\", 11434);\n",
    "  ollamaApiUrl = \"host.docker.internal\";\n",
    "} catch { }\n",
    "\n",
    "// Setup the model we want to use\n",
    "var languageModel = \"llama3.2:3b\";"
   ]
  },
  {
   "cell_type": "markdown",
   "metadata": {},
   "source": [
    "## 🧩 Create a plugin\n",
    "\n",
    "To start calling functions we need to create a plugin so the Semantic Framework can power up our language model. Let's create a very basic pizza ordering plugin. While a real one would be more complex this will serve as a simple example."
   ]
  },
  {
   "cell_type": "code",
   "execution_count": null,
   "metadata": {
    "dotnet_interactive": {
     "language": "csharp"
    },
    "polyglot_notebook": {
     "kernelName": "csharp"
    }
   },
   "outputs": [],
   "source": [
    "using System.ComponentModel;\n",
    "using Microsoft.SemanticKernel;\n",
    "\n",
    "public enum PizzaSize\n",
    "{\n",
    "  Small,\n",
    "  Medium,\n",
    "  Large\n",
    "}\n",
    "\n",
    "public class PizzaOrder\n",
    "{\n",
    "  public PizzaSize Size { get; set; }\n",
    "  public List<string> Toppings { get; set; }\n",
    "  public int Quantity { get; set; }\n",
    "  public string SpecialInstructions { get; set; }\n",
    "}\n",
    "\n",
    "public class OrderPizzaPlugin\n",
    "{\n",
    "  [KernelFunction(\"order_pizza\")]\n",
    "  [Description(\"Order a pizza with the given size and toppings\")]\n",
    "  public async Task<PizzaOrder> OrderPizza(PizzaSize size, List<string> toppings, int Quantity, string SpecialInstructions) =>\n",
    "    await Task.FromResult(new PizzaOrder\n",
    "    {\n",
    "      Size = size,\n",
    "      Toppings = toppings,\n",
    "      Quantity = Quantity,\n",
    "      SpecialInstructions = SpecialInstructions\n",
    "    });\n",
    "}"
   ]
  },
  {
   "cell_type": "markdown",
   "metadata": {},
   "source": [
    "## 🔌 Add the plugin to the kernel\n",
    "\n",
    "Now that we have defined our plugin (a pizza ordering service), we need to add it into the kernel so it can be sent to the language model. Sending the information about our plugin to the model allows it to make use of the plugin."
   ]
  },
  {
   "cell_type": "code",
   "execution_count": null,
   "metadata": {
    "dotnet_interactive": {
     "language": "csharp"
    },
    "polyglot_notebook": {
     "kernelName": "csharp"
    }
   },
   "outputs": [],
   "source": [
    "using Microsoft.SemanticKernel;\n",
    "using Microsoft.SemanticKernel.ChatCompletion;\n",
    "\n",
    "#pragma warning disable SKEXP0070\n",
    "\n",
    "var kernelBuilder = Kernel.CreateBuilder()\n",
    "  .AddOllamaChatCompletion(languageModel, new Uri(ollamaApiUrl));\n",
    "\n",
    "kernelBuilder.Plugins.AddFromType<OrderPizzaPlugin>(\"OrderPizza\");\n",
    "\n",
    "var kernel = kernelBuilder.Build();\n",
    "\n",
    "IChatCompletionService chatCompletion = kernel.GetRequiredService<IChatCompletionService>();\n",
    "ChatHistory chatHistory = [\n",
    "  new () { Role = AuthorRole.User, Content = \"I'd like to order a pizza!\" }\n",
    "];\n",
    "\n",
    "var chatResponse = await chatCompletion.GetChatMessageContentAsync(chatHistory, kernel: kernel);\n",
    "\n",
    "Console.WriteLine(chatResponse);\n",
    "chatHistory.Add(chatResponse);"
   ]
  },
  {
   "cell_type": "markdown",
   "metadata": {},
   "source": [
    "## TODO: Use code in `semantic-kernel-tutorial/FunctionCalling.cs` to complete this when possible."
   ]
  },
  {
   "cell_type": "markdown",
   "metadata": {},
   "source": [
    "## 📚 Read More\n",
    "\n",
    "[Semantic Kernel - Function calling](https://learn.microsoft.com/en-us/semantic-kernel/concepts/ai-services/chat-completion/function-calling)"
   ]
  }
 ],
 "metadata": {
  "kernelspec": {
   "display_name": ".NET (C#)",
   "language": "C#",
   "name": ".net-csharp"
  },
  "polyglot_notebook": {
   "kernelInfo": {
    "defaultKernelName": "csharp",
    "items": [
     {
      "aliases": [],
      "languageName": "csharp",
      "name": "csharp"
     }
    ]
   }
  }
 },
 "nbformat": 4,
 "nbformat_minor": 2
}
