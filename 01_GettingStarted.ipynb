{
 "cells": [
  {
   "cell_type": "markdown",
   "metadata": {},
   "source": [
    "# 🏁 Getting Started\n",
    "\n",
    "1. Install [.net SDK 8.0](https://dotnet.microsoft.com/en-us/download/dotnet/8.0)\n",
    "2. Install [Ollama](https://ollama.com/)\n",
    "   - If you do not have permission to install software locally it can be requested from your manager as it is approved software\n",
    "3. Ensure Ollama is up by running `ollama serve`. If you get an error then it is likely already running."
   ]
  },
  {
   "cell_type": "markdown",
   "metadata": {},
   "source": [
    "## 🦙 Let's test Ollama!\n",
    "\n",
    "### Get the required packages from NuGet"
   ]
  },
  {
   "cell_type": "code",
   "execution_count": null,
   "metadata": {
    "dotnet_interactive": {
     "language": "csharp"
    },
    "polyglot_notebook": {
     "kernelName": "csharp"
    }
   },
   "outputs": [],
   "source": [
    "#r \"nuget: Microsoft.Extensions.AI.Ollama, 9.0.1-preview.1.24570.5\"\n",
    "#r \"nuget: Microsoft.SemanticKernel\"\n",
    "#r \"nuget: Microsoft.SemanticKernel.Connectors.Ollama, 1.33.0-alpha\"\n",
    "#r \"nuget: OllamaSharp\""
   ]
  },
  {
   "cell_type": "markdown",
   "metadata": {},
   "source": [
    "### Get the correct URL for operating in a dev container or not"
   ]
  },
  {
   "cell_type": "code",
   "execution_count": null,
   "metadata": {
    "dotnet_interactive": {
     "language": "csharp"
    },
    "polyglot_notebook": {
     "kernelName": "csharp"
    }
   },
   "outputs": [],
   "source": [
    "using System.Net.Sockets;\n",
    "\n",
    "var ollamaApiUrl = \"http://localhost:11434\";\n",
    "try {\n",
    "  var tcp = new TcpClient();\n",
    "  tcp.SendTimeout = 100;\n",
    "  tcp.Connect(\"host.docker.internal\", 11434);\n",
    "  ollamaApiUrl = \"host.docker.internal\";\n",
    "} catch { }\n",
    "\n",
    "var languageModel = \"llama3.2:3b\";\n",
    "var embeddingsModel = \"nomic-embed-text\";"
   ]
  },
  {
   "cell_type": "markdown",
   "metadata": {},
   "source": [
    "### Get the models we need"
   ]
  },
  {
   "cell_type": "code",
   "execution_count": null,
   "metadata": {
    "dotnet_interactive": {
     "language": "csharp"
    },
    "polyglot_notebook": {
     "kernelName": "csharp"
    }
   },
   "outputs": [],
   "source": [
    "using OllamaSharp;\n",
    "using (var ollama = new OllamaApiClient(ollamaApiUrl))\n",
    "{\n",
    "    await foreach (var status in ollama.PullModelAsync(languageModel))\n",
    "        Console.WriteLine($\"{status.Percent}% {status.Status}\");\n",
    "\n",
    "    await foreach (var status in ollama.PullModelAsync(embeddingsModel))\n",
    "        Console.WriteLine($\"{status.Percent}% {status.Status}\");\n",
    "}"
   ]
  },
  {
   "cell_type": "markdown",
   "metadata": {},
   "source": [
    "### Test a question to the model"
   ]
  },
  {
   "cell_type": "code",
   "execution_count": null,
   "metadata": {
    "dotnet_interactive": {
     "language": "csharp"
    },
    "polyglot_notebook": {
     "kernelName": "csharp"
    }
   },
   "outputs": [],
   "source": [
    "using Microsoft.Extensions.AI;\n",
    "using Microsoft.SemanticKernel;\n",
    "using Microsoft.SemanticKernel.ChatCompletion;\n",
    "using Microsoft.SemanticKernel.Connectors.OpenAI;\n",
    "\n",
    "using (IChatClient client = new OllamaChatClient(new Uri(ollamaApiUrl), languageModel))\n",
    "{\n",
    "    await foreach (var update in client.CompleteStreamingAsync(\n",
    "    [\n",
    "        new ChatMessage(ChatRole.System, @\"\n",
    "            You are an expert on the works of Douglas Adams.\n",
    "            Answer all questions using only quotations from his books and include citation.\n",
    "            Do not include additional material outside of the answer and citation.\"),\n",
    "        new ChatMessage(ChatRole.User, \"What is the meaning of life the universe and everything?\"),\n",
    "    ]))\n",
    "    {\n",
    "        Console.Write(update);\n",
    "    };\n",
    "}"
   ]
  },
  {
   "cell_type": "markdown",
   "metadata": {},
   "source": [
    "## 📈 Beyond the Basics\n",
    "\n",
    "Now that we've seen how to do a request and response, how does a chat work?\n",
    "It's very similar but we have three personas now:\n",
    "1. The system (only one prompt needed)\n",
    "2. The user (that's you!)\n",
    "3. The assistant (the persona created by the system prompt)\n",
    "\n",
    "Confusing? Let's clarify with an example:"
   ]
  },
  {
   "cell_type": "code",
   "execution_count": null,
   "metadata": {
    "dotnet_interactive": {
     "language": "csharp"
    },
    "polyglot_notebook": {
     "kernelName": "csharp"
    }
   },
   "outputs": [],
   "source": [
    "using Microsoft.Extensions.AI;\n",
    "using Microsoft.SemanticKernel;\n",
    "using Microsoft.SemanticKernel.ChatCompletion;\n",
    "using Microsoft.SemanticKernel.Connectors.OpenAI;\n",
    "\n",
    "using (IChatClient client = new OllamaChatClient(new Uri(ollamaApiUrl), languageModel))\n",
    "{\n",
    "    await foreach (var update in client.CompleteStreamingAsync(\n",
    "    [\n",
    "        new ChatMessage(ChatRole.System, @\"Answer any question put to you with a quote from one of the works of Douglas Adams.\"),\n",
    "        new ChatMessage(ChatRole.User, \"What is the meaning of life the universe and everything?\"),\n",
    "        new ChatMessage(ChatRole.Assistant, \"Forty-two\"),\n",
    "        new ChatMessage(ChatRole.User, \"In what book and chapter can I find this quote?\"),\n",
    "    ]))\n",
    "    {\n",
    "        Console.Write(update);\n",
    "    };\n",
    "}"
   ]
  },
  {
   "cell_type": "markdown",
   "metadata": {},
   "source": [
    "In this example we have slightly modified the previous lesson's prompts by adding history for both the `ChatRole.Assistant` and `ChatRole.User`. We can use this feedback loop to provide more refined answers than would be available using a single message.\n",
    "\n",
    "This is the core of how chats with Large Language Models (LLMs) function.\n",
    "\n",
    "## 📚 Read More\n",
    "\n",
    "[Semantic Kernel - Chat completion overview](https://learn.microsoft.com/en-us/semantic-kernel/concepts/ai-services/chat-completion)"
   ]
  }
 ],
 "metadata": {
  "kernelspec": {
   "display_name": ".NET (C#)",
   "language": "C#",
   "name": ".net-csharp"
  },
  "polyglot_notebook": {
   "kernelInfo": {
    "defaultKernelName": "csharp",
    "items": [
     {
      "aliases": [],
      "languageName": "csharp",
      "name": "csharp"
     }
    ]
   }
  }
 },
 "nbformat": 4,
 "nbformat_minor": 2
}
