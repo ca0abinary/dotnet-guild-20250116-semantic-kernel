{
 "cells": [
  {
   "cell_type": "markdown",
   "metadata": {
    "dotnet_interactive": {
     "language": "csharp"
    },
    "polyglot_notebook": {
     "kernelName": "csharp"
    }
   },
   "source": [
    "# 💬 Chat history\n",
    "\n",
    "## Setup"
   ]
  },
  {
   "cell_type": "code",
   "execution_count": null,
   "metadata": {
    "dotnet_interactive": {
     "language": "csharp"
    },
    "polyglot_notebook": {
     "kernelName": "csharp"
    }
   },
   "outputs": [
    {
     "data": {
      "text/html": [
       "<div><div></div><div></div><div><strong>Installed Packages</strong><ul><li><span>Microsoft.Extensions.AI.Ollama, 9.0.1-preview.1.24570.5</span></li><li><span>Microsoft.SemanticKernel, 1.33.0</span></li><li><span>Microsoft.SemanticKernel.Connectors.Ollama, 1.33.0-alpha</span></li><li><span>OllamaSharp, 4.0.22</span></li></ul></div></div>"
      ]
     },
     "metadata": {},
     "output_type": "display_data"
    }
   ],
   "source": [
    "// Install the required packages\n",
    "#r \"nuget: Microsoft.Extensions.AI.Ollama, 9.0.1-preview.1.24570.5\"\n",
    "#r \"nuget: Microsoft.SemanticKernel\"\n",
    "#r \"nuget: Microsoft.SemanticKernel.Connectors.Ollama, 1.33.0-alpha\"\n",
    "#r \"nuget: OllamaSharp\"\n",
    "\n",
    "// Setup the URL\n",
    "var ollamaApiUrl = Environment.GetEnvironmentVariable(\"DOTNET_RUNNING_IN_CONTAINER\") == \"true\"\n",
    "  ? \"http://host.docker.internal:11434\"\n",
    "  : \"http://localhost:11434\";\n",
    "\n",
    "// Setup the model we want to use\n",
    "var languageModel = \"llama3.2:3b\";"
   ]
  },
  {
   "cell_type": "markdown",
   "metadata": {},
   "source": [
    "## 🙋 What is it?\n",
    "\n",
    "The chat history object is used to maintain a record of messages in a chat session. It is used to store messages from different authors, such as users, assistants, tools, or the system.\n",
    "\n",
    "As the primary mechanism for sending and receiving messages, the chat history object is essential for maintaining context and continuity in a conversation."
   ]
  },
  {
   "cell_type": "code",
   "execution_count": null,
   "metadata": {
    "dotnet_interactive": {
     "language": "csharp"
    },
    "polyglot_notebook": {
     "kernelName": "csharp"
    }
   },
   "outputs": [
    {
     "name": "stdout",
     "output_type": "stream",
     "text": [
      "The quote \"42\" appears in Douglas Adams' science fiction series, \"The Hitchhiker's Guide to the Galaxy\". However, it does not appear directly as an answer to a question. Instead, the ultimate answer is first mentioned in the book \"The Salmon of Truth\", which is part of the novel \"So Long, and Thanks for All the Fish\".\n",
      "\n",
      "However, the number 42 itself appears in Chapter 13 of \"The Hitchhiker's Guide to the Galaxy\", titled \"The Ultimate Answer to the Ultimate Question of Life, the Universe, and Everything\".\n"
     ]
    }
   ],
   "source": [
    "using Microsoft.Extensions.AI;\n",
    "using Microsoft.SemanticKernel;\n",
    "using Microsoft.SemanticKernel.ChatCompletion;\n",
    "using Microsoft.SemanticKernel.Connectors.OpenAI;\n",
    "\n",
    "#pragma warning disable SKEXP0001\n",
    "\n",
    "ChatHistory chatHistory = [\n",
    "    new () { Role = AuthorRole.System, Content = @\"Answer any question put to you with a quote from one of the works of Douglas Adams.\" },\n",
    "    new () { Role = AuthorRole.User, Content = \"What is the meaning of life the universe and everything? Include citation.\" },\n",
    "    new () { Role = AuthorRole.Assistant, Content = \"Forty-two\" },\n",
    "    new () { Role = AuthorRole.User, Content = \"In what book and chapter can I find this quote?\" },\n",
    "];\n",
    "\n",
    "var historyLength = chatHistory.Count;\n",
    "using (IChatClient client = new OllamaChatClient(new Uri(ollamaApiUrl), languageModel))\n",
    "{\n",
    "    var results = await client.AsChatCompletionService().GetChatMessageContentAsync(chatHistory);\n",
    "\n",
    "    // Get the new messages added to the chat history object\n",
    "    for (int i = historyLength; i < chatHistory.Count; i++)\n",
    "    {\n",
    "        Console.WriteLine(chatHistory[i]);\n",
    "    }\n",
    "\n",
    "    // Print the final message\n",
    "    Console.WriteLine(results);\n",
    "\n",
    "    // Add the final message to the chat history object\n",
    "    chatHistory.Add(results);\n",
    "}"
   ]
  },
  {
   "cell_type": "markdown",
   "metadata": {},
   "source": [
    "In this example we have constructed a chat history and then sent it into the model for a new response. Having the `ChatHistory` at our disposal makes it easier to inspect the history and pull out insights, the tradeoff is added complexity in the code.\n",
    "\n",
    "This result is the same as our last lesson, but how we arrived here is completely different. We can leverage this additional functionality to expand the way we use the model.\n",
    "\n",
    "## 📚 Read More\n",
    "\n",
    "[Semantic Kernel - Chat history](https://learn.microsoft.com/en-us/semantic-kernel/concepts/ai-services/chat-completion/chat-history)"
   ]
  }
 ],
 "metadata": {
  "kernelspec": {
   "display_name": ".NET (C#)",
   "language": "C#",
   "name": ".net-csharp"
  },
  "polyglot_notebook": {
   "kernelInfo": {
    "defaultKernelName": "csharp",
    "items": [
     {
      "aliases": [],
      "languageName": "csharp",
      "name": "csharp"
     }
    ]
   }
  }
 },
 "nbformat": 4,
 "nbformat_minor": 2
}
