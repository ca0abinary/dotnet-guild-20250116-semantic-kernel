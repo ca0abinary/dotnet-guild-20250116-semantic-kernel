{
 "cells": [
  {
   "cell_type": "markdown",
   "metadata": {
    "dotnet_interactive": {
     "language": "csharp"
    },
    "polyglot_notebook": {
     "kernelName": "csharp"
    }
   },
   "source": [
    "# 📝 Formatted Output\n",
    "\n",
    "Getting your data back in a format that can be consistently and reliably used is a problem you will likely encounter. Especially when creating usable data to feed into an API. Imagine for example you are building a service to help authors write books. One feature you may provide is character creation. While keeping the human in the loop is good, we don't want our users needing to copy and paste from the LLM response or get inconsistent results.\n",
    "\n",
    "Fortunately we  can solve that problem with formatted output!\n",
    "\n",
    "## 🛠️ Setup\n",
    "\n",
    "We will start by installing the packages we need and creating a connection to the LLM.\n",
    "> *Note:* Because this feature is not yet released directly for the Ollama API, we will use a different connector. Ollama will still be providing the results."
   ]
  },
  {
   "cell_type": "code",
   "execution_count": null,
   "metadata": {},
   "outputs": [],
   "source": [
    "#r \"nuget: Microsoft.SemanticKernel\"\n",
    "#r \"nuget: Microsoft.SemanticKernel.Connectors.OpenAI, 1.33.0\"\n",
    "#r \"nuget: Microsoft.Extensions.AI.Ollama, 9.0.1-preview.1.24570.5\"\n",
    "\n",
    "using System.ComponentModel;\n",
    "using System.Text.Json;\n",
    "using Microsoft.SemanticKernel;\n",
    "using Microsoft.SemanticKernel.Connectors.OpenAI;\n",
    "\n",
    "var ollamaApiUrl = Environment.GetEnvironmentVariable(\"DOTNET_RUNNING_IN_CONTAINER\") == \"true\"\n",
    "  ? \"http://host.docker.internal:11434\"\n",
    "  : \"http://localhost:11434\";\n",
    "var openAiFormattedUrl = $\"{ollamaApiUrl}/v1\";\n",
    "\n",
    "// Setup the model we want to use\n",
    "var languageModel = \"llama3.2:3b\";\n",
    "\n",
    "// Create the kernel\n",
    "#pragma warning disable SKEXP0010\n",
    "var kernel = Kernel\n",
    "  .CreateBuilder()\n",
    "  .AddOpenAIChatCompletion(languageModel, new Uri(openAiFormattedUrl), \"ollama\")\n",
    "  .Build();"
   ]
  },
  {
   "cell_type": "markdown",
   "metadata": {},
   "source": [
    "## 👩🏿‍🎤 Define our character class\n",
    "\n",
    "Now we need to create a class to hold our character data. We will use the `[Description]` attribute to ensure the model knows what our fields mean and can fill them in properly."
   ]
  },
  {
   "cell_type": "code",
   "execution_count": null,
   "metadata": {},
   "outputs": [],
   "source": [
    "public struct MyGreatNovelCharacter\n",
    "{\n",
    "    [Description(\"The character's name\")]\n",
    "    public string Name { get; set; }\n",
    "\n",
    "    [Description(\"The character's background story\")]\n",
    "    public string BackgroundStory { get; set; }\n",
    "\n",
    "    [Description(\"The name of the town the character lives in\")]\n",
    "    public string Town { get; set; }\n",
    "\n",
    "    [Description(\"The character's age\")]\n",
    "    public int Age { get; set; }\n",
    "\n",
    "    [Description(\"The job the character has in town\")]\n",
    "    public string Occupation { get; set; }\n",
    "\n",
    "    [Description(\"The character's race\")]\n",
    "    public string Race { get; set; }\n",
    "\n",
    "    [Description(\"Names of the character's friends\")]\n",
    "    public List<string> Friends { get; set; }\n",
    "\n",
    "    [Description(\"The character's personality traits\")]\n",
    "    public List<string> PersonalityTraits { get; set; }\n",
    "}"
   ]
  },
  {
   "cell_type": "markdown",
   "metadata": {},
   "source": [
    "## 🤖 Generate a character!\n",
    "\n",
    "We're all set to get a character from the model, so let's make the request."
   ]
  },
  {
   "cell_type": "code",
   "execution_count": null,
   "metadata": {},
   "outputs": [],
   "source": [
    "#pragma warning disable SKEXP0010\n",
    "\n",
    "var result = await kernel.InvokePromptAsync(\n",
    "    \"You are a service that generates a random fantasy character for a novel.\",\n",
    "    new(new OpenAIPromptExecutionSettings { ResponseFormat = typeof(MyGreatNovelCharacter) }));\n",
    "\n",
    "var resultObject = JsonSerializer.Deserialize<MyGreatNovelCharacter>(result.ToString());\n",
    "\n",
    "Console.WriteLine(JsonSerializer.Serialize(resultObject, new JsonSerializerOptions { WriteIndented = true }));"
   ]
  },
  {
   "cell_type": "markdown",
   "metadata": {},
   "source": [
    "As you can see, generating data into a structured format can be a snap using the Semantic Kernel framework."
   ]
  }
 ],
 "metadata": {
  "kernelspec": {
   "display_name": ".NET (C#)",
   "language": "C#",
   "name": ".net-csharp"
  },
  "polyglot_notebook": {
   "kernelInfo": {
    "defaultKernelName": "csharp",
    "items": [
     {
      "aliases": [],
      "languageName": "csharp",
      "name": "csharp"
     }
    ]
   }
  }
 },
 "nbformat": 4,
 "nbformat_minor": 2
}
